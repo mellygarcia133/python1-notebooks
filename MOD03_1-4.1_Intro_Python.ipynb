{
  "cells": [
    {
      "metadata": {},
      "cell_type": "markdown",
      "source": "# 1-4.1 Intro Python\n## Conditionals \n- **`if`, `else`, `pass`**\n  - **Conditionals using Boolean String Methods**\n  - Comparison operators\n  - String comparisons\n\n----- \n\n><font size=\"5\" color=\"#00A0B2\"  face=\"verdana\"> <B>Student will be able to</B></font>  \n- **control code flow with `if`... `else` conditional logic**  \n  - **using Boolean string methods (`.isupper(), .isalpha(), startswith()...`)**  \n  - using comparison (`>, <, >=, <=, ==, !=`)  \n  - using Strings in comparisons  "
    },
    {
      "metadata": {},
      "cell_type": "markdown",
      "source": "# &nbsp;\n<font size=\"6\" color=\"#00A0B2\"  face=\"verdana\"> <B>Concepts</B></font>\n## Conditionals use `True` or `False`\n - **`if`**\n - **`else`**\n   - **`pass`**  \n   \n[![view video](https://iajupyterprodblobs.blob.core.windows.net/imagecontainer/common/play_video.png)]( http://edxinteractivepage.blob.core.windows.net/edxpages/f7cff1a7-5601-48a1-95a6-fd1fdfabd20e.html?details=[{\"src\":\"http://jupyternootbookwams.streaming.mediaservices.windows.net/c53fdb30-b2b0-4183-9686-64b0e5b46dd2/Unit1_Section4.1-Conditionals.ism/manifest\",\"type\":\"application/vnd.ms-sstr+xml\"}],[{\"src\":\"http://jupyternootbookwams.streaming.mediaservices.windows.net/c53fdb30-b2b0-4183-9686-64b0e5b46dd2/Unit1_Section4.1-Conditonals.vtt\",\"srclang\":\"en\",\"kind\":\"subtitles\",\"label\":\"english\"}])"
    },
    {
      "metadata": {},
      "cell_type": "markdown",
      "source": "# &nbsp;\n<font size=\"6\" color=\"#00A0B2\"  face=\"verdana\"> <B>Examples</B></font>"
    },
    {
      "metadata": {
        "trusted": true
      },
      "cell_type": "code",
      "source": "if True:\n    print(\"True means do something\")\nelse:\n    print(\"Not True means do something else\")",
      "execution_count": 1,
      "outputs": [
        {
          "output_type": "stream",
          "text": "True means do something\n",
          "name": "stdout"
        }
      ]
    },
    {
      "metadata": {
        "trusted": true
      },
      "cell_type": "code",
      "source": "hot_tea = True\n\nif hot_tea:\n    print(\"enjoy some hot tea!\")\nelse:\n    print(\"enjoy some tea, and perhaps try hot tea next time.\")",
      "execution_count": 2,
      "outputs": [
        {
          "output_type": "stream",
          "text": "enjoy some hot tea!\n",
          "name": "stdout"
        }
      ]
    },
    {
      "metadata": {
        "trusted": true
      },
      "cell_type": "code",
      "source": "hot_tea = False\n\nif hot_tea:\n    print(\"enjoy some hot tea!\")\nelse: \n    print(\"enjoy some tea, and perhaps try hot tea next time.\")",
      "execution_count": 3,
      "outputs": [
        {
          "output_type": "stream",
          "text": "enjoy some tea, and perhaps try hot tea next time.\n",
          "name": "stdout"
        }
      ]
    },
    {
      "metadata": {
        "trusted": true
      },
      "cell_type": "code",
      "source": "someone_i_know = False\nif someone_i_know:\n    print(\"how have you been?\")\nelse:\n    # use pass if there is no need to execute code \n    pass",
      "execution_count": 5,
      "outputs": []
    },
    {
      "metadata": {
        "trusted": true
      },
      "cell_type": "code",
      "source": "# changed the value of someone_i_know\nsomeone_i_know = True\nif someone_i_know:\n    print(\"how have you been?\")\nelse:\n    pass",
      "execution_count": 6,
      "outputs": [
        {
          "output_type": "stream",
          "text": "how have you been?\n",
          "name": "stdout"
        }
      ]
    },
    {
      "metadata": {
        "collapsed": true
      },
      "cell_type": "markdown",
      "source": "# &nbsp;\n<font size=\"6\" color=\"#B24C00\"  face=\"verdana\"> <B>Task 1</B></font>\n\n## Conditionals\n### Using Boolean with &nbsp; `if, else`\n\n- **Give a weather report using `if, else`**"
    },
    {
      "metadata": {
        "trusted": true
      },
      "cell_type": "code",
      "source": "sunny_today = True\n# [ ] test if it is sunny_today and give proper responses using if and else\n\nif sunny_today:\n    print(\"It is perfect weather!\")\nelse:\n    print(\"No sun today :(\")",
      "execution_count": 7,
      "outputs": [
        {
          "output_type": "stream",
          "text": "It is perfect weather!\n",
          "name": "stdout"
        }
      ]
    },
    {
      "metadata": {
        "trusted": true
      },
      "cell_type": "code",
      "source": "sunny_today = False\n# [ ] use code you created above and test sunny_today = False\n\nif sunny_today:\n    print(\"It is perfect weather!\")\nelse:\n    print(\"No sun today :(\")",
      "execution_count": 8,
      "outputs": [
        {
          "output_type": "stream",
          "text": "No sun today :(\n",
          "name": "stdout"
        }
      ]
    },
    {
      "metadata": {},
      "cell_type": "markdown",
      "source": "# &nbsp;\n<font size=\"6\" color=\"#00A0B2\"  face=\"verdana\"> <B>Concepts</B></font>\n## Conditionals: Boolean String test methods  with `if`\n[![view video](https://iajupyterprodblobs.blob.core.windows.net/imagecontainer/common/play_video.png)]( http://edxinteractivepage.blob.core.windows.net/edxpages/f7cff1a7-5601-48a1-95a6-fd1fdfabd20e.html?details=[{\"src\":\"http://jupyternootbookwams.streaming.mediaservices.windows.net/caa56256-733a-4172-96f7-9ecfc12d49d0/Unit1_Section4.1-conditionals-bool.ism/manifest\",\"type\":\"application/vnd.ms-sstr+xml\"}],[{\"src\":\"http://jupyternootbookwams.streaming.mediaservices.windows.net/caa56256-733a-4172-96f7-9ecfc12d49d0/Unit1_Section4.1-conditonals-bool.vtt\",\"srclang\":\"en\",\"kind\":\"subtitles\",\"label\":\"english\"}])\n```python\nif student_name.isalpha():\n```  \n- **`.isalnum()`**\n- **`.istitle()`**\n- **`.isdigit()`**\n- **`.islower()`**\n- **`.startswith()`**\n"
    },
    {
      "metadata": {},
      "cell_type": "markdown",
      "source": "### &nbsp;\n<font size=\"6\" color=\"#00A0B2\"  face=\"verdana\"> <B>Examples</B></font>"
    },
    {
      "metadata": {
        "trusted": true
      },
      "cell_type": "code",
      "source": "fav_food = input(\"what is your favorite food? \")\n\nif fav_food.isalnum():\n    print(\"True\")\nelse:\n    print(\"Not a number\")\nif fav_food.istitle():\n    print(\"True\")\nelse:\n    print(\"not a title\")\nif fav_food.isdigit():\n    print(\"True\")\nelse:\n    print(\"not a digit\")\nif fav_food.islower():\n    print(\"True\")\nelse: \n    print(\"not lower case\")\nif fav_food.startswith(\"m\"):\n    print(\"True\")\nelse:\n    print(\"doesn't start with 'M'\")",
      "execution_count": 13,
      "outputs": [
        {
          "output_type": "stream",
          "name": "stdout",
          "text": "what is your favorite food? mangoes\nTrue\nnot a title\nnot a digit\nTrue\nTrue\n"
        }
      ]
    },
    {
      "metadata": {
        "trusted": true
      },
      "cell_type": "code",
      "source": "# review code and run cell\nfavorite_book = input(\"Enter the title of a favorite book: \")\n\nif favorite_book.istitle():\n    print(favorite_book, \"- nice capitalization in that title!\")\nelse:\n    print(favorite_book, \"- consider capitalization throughout for book titles.\")",
      "execution_count": 1,
      "outputs": [
        {
          "output_type": "stream",
          "name": "stdout",
          "text": "Enter the title of a favorite book: walk two moods\nwalk two moods - consider capitalization throughout for book titles.\n"
        }
      ]
    },
    {
      "metadata": {
        "trusted": true
      },
      "cell_type": "code",
      "source": "fav_drink = input(\"what is your favorite food? \")\n\nif fav_drink.istitle():\n    print(fav_drink, \"nice caps!\")\nelse: \n    print(fav_drink, \"you should capitalize\")",
      "execution_count": 2,
      "outputs": [
        {
          "output_type": "stream",
          "name": "stdout",
          "text": "what is your favorite food? mangoes\nmangoes you should capitalize\n"
        }
      ]
    },
    {
      "metadata": {
        "trusted": true
      },
      "cell_type": "code",
      "source": "# review code and run cell\na_number = input(\"enter a positive integer number: \")\n\nif a_number.isdigit():\n    print(a_number, \"is a positive integer\")\nelse:\n    print(a_number, \"is not a positive integer\")\n    \n# another if\nif a_number.isalpha():\n    print(a_number, \"is more like a word\")\nelse:\n    pass",
      "execution_count": null,
      "outputs": []
    },
    {
      "metadata": {
        "trusted": true
      },
      "cell_type": "code",
      "source": "number = input(\"enter a positive integer number: \")\n\nif number.isdigit():\n    print(number, \"is a positive integer\")\nelse: \n    print(number, \"is not a positive integer\")\n    \nif number.isalpha():\n    print(number, \"is more like a word\")\nelse:\n    pass",
      "execution_count": 1,
      "outputs": [
        {
          "output_type": "stream",
          "name": "stdout",
          "text": "enter a positive integer number: 13\n13 is a positive integer\n"
        }
      ]
    },
    {
      "metadata": {
        "trusted": true
      },
      "cell_type": "code",
      "source": "# review code and run cell\nvehicle_type = input('\"enter a type of vehicle that starts with \"P\": ')\n\nif vehicle_type.upper().startswith(\"P\"):\n    print(vehicle_type, 'starts with \"P\"')\nelse:\n    print(vehicle_type, 'does not start with \"P\"')",
      "execution_count": 2,
      "outputs": [
        {
          "output_type": "stream",
          "name": "stdout",
          "text": "\"enter a type of vehicle that starts with \"P\": Pontiac\nPontiac starts with \"P\"\n"
        }
      ]
    },
    {
      "metadata": {},
      "cell_type": "raw",
      "source": ""
    },
    {
      "metadata": {
        "trusted": true
      },
      "cell_type": "code",
      "source": "car_type = input('\"enter a car that starts with \"C\": ')\n\nif car_type.upper().startswith(\"C\"):\n    print(car_type, 'starts with \"C\"')\nelse:\n    print(car_type, 'does not start with \"P\"')",
      "execution_count": 3,
      "outputs": [
        {
          "output_type": "stream",
          "name": "stdout",
          "text": "\"enter a car that starts with \"C\": Camero\nCamero starts with \"C\"\n"
        }
      ]
    },
    {
      "metadata": {
        "collapsed": true
      },
      "cell_type": "markdown",
      "source": "# &nbsp;\n<font size=\"6\" color=\"#B24C00\"  face=\"verdana\"> <B>Task 2: multi-part</B></font>\n\n## Evaluating Boolean Conditionals \n### create evaluations for `.islower()`\n- print output describing **if** each of the 2 strings is all lower or not\n"
    },
    {
      "metadata": {
        "trusted": true
      },
      "cell_type": "code",
      "source": "test_string_1 = \"welcome\"\ntest_string_2 = \"I have $3\"\n# [ ] use if, else to test for islower() for the 2 strings\n\nif test_string_1.islower():\n    print(\"string 1 is lower case\")\nelse:\n    print(\"string 1 is not lower case\")\n    \nif test_string_2.islower():\n    print(\"string 2 is lower case\")\nelse:\n    print(\"string 2 is not lower case\")\n\n",
      "execution_count": 5,
      "outputs": [
        {
          "output_type": "stream",
          "text": "string 1 is lower case\nstring 2 is not lower case\n",
          "name": "stdout"
        }
      ]
    },
    {
      "metadata": {},
      "cell_type": "markdown",
      "source": "<font size=\"3\" color=\"#B24C00\"  face=\"verdana\"> <B>Task 2 continued.. </B></font>\n### create a functions  using `startswith('w')`\n- w_start_test() tests if starts with \"w\"  \n**function should have a parameter for `test_string` and print the test result**"
    },
    {
      "metadata": {
        "trusted": true
      },
      "cell_type": "code",
      "source": "test_string_1 = \"welcome\"\ntest_string_2 = \"I have $3\"\ntest_string_3 = \"With a function it's efficient to repeat code\"\n# [ ] create a function w_start_test() use if & else to test with startswith('w')\n\ndef w_start_test(string):\n    if string.startswith('w'):\n        print(\"this string starts with 'w'\")\n    else:\n        print(\"this string does not start with 'w'\")\n        \nw_start_test(test_string_1)\nw_start_test(test_string_2)\nw_start_test(test_string_3)\n# [ ] Test the 3 string variables provided by calling w_start_test()\n\n",
      "execution_count": 7,
      "outputs": [
        {
          "output_type": "stream",
          "text": "this string starts with 'w'\nthis string does not start with 'w'\nthis string does not start with 'w'\n",
          "name": "stdout"
        }
      ]
    },
    {
      "metadata": {},
      "cell_type": "markdown",
      "source": "[Terms of use](http://go.microsoft.com/fwlink/?LinkID=206977) &nbsp; [Privacy & cookies](https://go.microsoft.com/fwlink/?LinkId=521839) &nbsp; © 2017 Microsoft"
    }
  ],
  "metadata": {
    "anaconda-cloud": {},
    "kernelspec": {
      "name": "python3",
      "display_name": "Python 3",
      "language": "python"
    },
    "language_info": {
      "mimetype": "text/x-python",
      "nbconvert_exporter": "python",
      "name": "python",
      "file_extension": ".py",
      "version": "3.5.4",
      "pygments_lexer": "ipython3",
      "codemirror_mode": {
        "version": 3,
        "name": "ipython"
      }
    }
  },
  "nbformat": 4,
  "nbformat_minor": 1
}