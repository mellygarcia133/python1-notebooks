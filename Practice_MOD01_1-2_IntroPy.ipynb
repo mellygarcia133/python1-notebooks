{
  "cells": [
    {
      "metadata": {},
      "cell_type": "markdown",
      "source": "# 1-2 Intro Python Practice\n## Strings: input, testing, formatting\n<font size=\"5\" color=\"#00A0B2\"  face=\"verdana\"> <B>Student will be able to</B></font>\n- gather, store and use string `input()`  \n- format `print()` output  \n- test string characteristics  \n- format string output  \n- search for a string in a string  "
    },
    {
      "metadata": {},
      "cell_type": "markdown",
      "source": "## input()\ngetting input from users"
    },
    {
      "metadata": {
        "trusted": true
      },
      "cell_type": "code",
      "source": "print(\"what is your name? \")\nremind_me = input()\n\nprint(remind_me)\nprint()\nprint(\"remember: \",remind_me)",
      "execution_count": 2,
      "outputs": [
        {
          "output_type": "stream",
          "text": "what is your name? \nMelissa\nMelissa\n\nremember:  Melissa\n",
          "name": "stdout"
        }
      ]
    },
    {
      "metadata": {
        "scrolled": true,
        "trusted": true
      },
      "cell_type": "code",
      "source": "# [ ] get user input for a variable named remind_me\nprint(\"please remind me of your name\")\nremind_me = input()\n\n# [ ] print the value of the variable remind_me\nprint(remind_me)\n",
      "execution_count": 2,
      "outputs": [
        {
          "output_type": "stream",
          "text": "please remind me of your name\nBob\nBob\n",
          "name": "stdout"
        }
      ]
    },
    {
      "metadata": {
        "trusted": true
      },
      "cell_type": "code",
      "source": "# use string addition to print \"remember: \" before the remind_me input string\nprint(\"remember: \",remind_me)\n",
      "execution_count": 3,
      "outputs": [
        {
          "output_type": "stream",
          "text": "remember:  Bob\n",
          "name": "stdout"
        }
      ]
    },
    {
      "metadata": {},
      "cell_type": "markdown",
      "source": "### Program: Meeting Details\n#### [ ] get user **input** for meeting subject and time\n`what is the meeting subject?: plan for graduation`  \n`what is the meeting time?: 3:00 PM on Monday`  \n\n#### [ ] print **output** with descriptive labels  \n`Meeting Subject: plan for graduation`  \n`Meeting Time:    3:00 PM on Monday`"
    },
    {
      "metadata": {
        "trusted": true
      },
      "cell_type": "code",
      "source": "meeting_subject = input(\"What is the meeting about today? \")\nmeeting_time = input(\"What time is the meeting today? \")\n\nprint()\nprint(\"Meeting Subject: \", meeting_subject)\nprint(\"Meeting Time: \", meeting_time)",
      "execution_count": 3,
      "outputs": [
        {
          "output_type": "stream",
          "name": "stdout",
          "text": "What is the meeting about today? Puppies\nWhat time is the meeting today? 3:00\n\nMeeting Subject:  Puppies\nMeeting Time:  3:00\n"
        }
      ]
    },
    {
      "metadata": {
        "trusted": true
      },
      "cell_type": "code",
      "source": "# [ ] get user input for 2 variables: meeting_subject and meeting_time\nprint(\"what is the meeting about\")\nmeeting_subject = input()\nprint(\"what is the meeting time\")\nmeeting_time = input()\n# [ ] use string addition to print meeting subject and time with labels\nprint(\"Meeting Subject:\",meeting_subject)\nprint(\"Meeting Time:\",meeting_time)\n\n\n",
      "execution_count": 5,
      "outputs": [
        {
          "output_type": "stream",
          "text": "what is the meeting about\nfood\nwhat is the meeting time\n3:30\nMeeting Subject: food\nMeeting Time: 3:30\n",
          "name": "stdout"
        }
      ]
    },
    {
      "metadata": {
        "collapsed": true
      },
      "cell_type": "markdown",
      "source": "## print() formatting \n### combining multiple strings separated by commas in the print() function"
    },
    {
      "metadata": {
        "trusted": true
      },
      "cell_type": "code",
      "source": "print(\"Wednesday is\",\"in the middle of the week\")",
      "execution_count": 4,
      "outputs": [
        {
          "output_type": "stream",
          "text": "Wednesday is in the middle of the week\n",
          "name": "stdout"
        }
      ]
    },
    {
      "metadata": {
        "trusted": true
      },
      "cell_type": "code",
      "source": "# [ ] print the combined strings \"Wednesday is\" and \"in the middle of the week\" \nprint(\"Wednesday is\",\"in the middle of the week\")\n",
      "execution_count": 6,
      "outputs": [
        {
          "output_type": "stream",
          "text": "Wednesday is in the middle of the week\n",
          "name": "stdout"
        }
      ]
    },
    {
      "metadata": {
        "trusted": true
      },
      "cell_type": "code",
      "source": "# [ ] print combined string \"Remember to\" and the string variable remind_me from input above\nprint(\"Remember to\",remind_me)\n",
      "execution_count": 7,
      "outputs": [
        {
          "output_type": "stream",
          "text": "Remember to Bob\n",
          "name": "stdout"
        }
      ]
    },
    {
      "metadata": {
        "trusted": true
      },
      "cell_type": "code",
      "source": "# [ ] Combine 3 variables from above with multiple strings\nprint(remind_me,meeting_subject,meeting_time)\n",
      "execution_count": 8,
      "outputs": [
        {
          "output_type": "stream",
          "text": "Bob food 3:30\n",
          "name": "stdout"
        }
      ]
    },
    {
      "metadata": {
        "collapsed": true
      },
      "cell_type": "markdown",
      "source": "### print() quotation marks"
    },
    {
      "metadata": {
        "trusted": true
      },
      "cell_type": "code",
      "source": "# [ ] print a string sentence that will display an Apostrophe (')\nprint(\"what's your favorite food\")\n\n",
      "execution_count": 9,
      "outputs": [
        {
          "output_type": "stream",
          "text": "what's your favorite food\n",
          "name": "stdout"
        }
      ]
    },
    {
      "metadata": {
        "trusted": true
      },
      "cell_type": "code",
      "source": "# [ ] print a string sentence that will display a quote(\") or quotes\nprint('\"what is your favorite food\", said bob')\n",
      "execution_count": 10,
      "outputs": [
        {
          "output_type": "stream",
          "text": "\"what is your favorite food\", said bob\n",
          "name": "stdout"
        }
      ]
    },
    {
      "metadata": {
        "collapsed": true
      },
      "cell_type": "markdown",
      "source": "## Boolean string tests"
    },
    {
      "metadata": {},
      "cell_type": "markdown",
      "source": "### Vehicle tests  \n#### get user input for a variable named vehicle  \nprint the following tests results  \n- check True or False if vehicle is All alphabetical characters using .isalpha()  \n- check True or False if vehicle is only All alphabetical & numeric characters  \n- check True or False if vehicle is Capitalized (first letter only)  \n- check True or False if vehicle is All lowercase  \n- **bonus** print description for each test (e.g.- `\"All Alpha: True\"`)"
    },
    {
      "metadata": {
        "trusted": true
      },
      "cell_type": "code",
      "source": "var = \"popcicle\"\nprint(var.isalpha())\nprint(var.isdigit())\nprint(var.capitalize())\nprint(var.lower())",
      "execution_count": 5,
      "outputs": [
        {
          "output_type": "stream",
          "text": "True\nFalse\nPopcicle\npopcicle\n",
          "name": "stdout"
        }
      ]
    },
    {
      "metadata": {
        "trusted": true
      },
      "cell_type": "code",
      "source": "# [ ] complete vehicle tests \nvar = \"vechicle\"\nprint(var.isalpha())\nprint(var.isdigit())\nprint(var.capitalize())\nprint(var.lower())\n\n",
      "execution_count": 4,
      "outputs": [
        {
          "output_type": "stream",
          "text": "True\nFalse\nVechicle\nvechicle\n",
          "name": "stdout"
        }
      ]
    },
    {
      "metadata": {
        "trusted": true
      },
      "cell_type": "code",
      "source": "# [ ] print True or False if color starts with \"b\" \npopcicle_color = input(\"what color is your popcicle? \")\nprint(popcicle_color)\n\nprint()\n\nif popcicle_color.startswith(\"b\"):\n    print(\"True\")\nelse:\n    print(\"False\")\n",
      "execution_count": 9,
      "outputs": [
        {
          "output_type": "stream",
          "name": "stdout",
          "text": "what color is your popcicle? blue\nblue\n\nTrue\n"
        }
      ]
    },
    {
      "metadata": {},
      "cell_type": "markdown",
      "source": "## Sting formatting"
    },
    {
      "metadata": {
        "trusted": true
      },
      "cell_type": "code",
      "source": "capitalize_dis = \"i like CHEESE\"\nprint(capitalize_dis.capitalize())\nprint()\n\nswap_dis = \"wHO took My CHEDDa\"\nprint(swap_dis.swapcase())\nprint()\n\nwhisper_dis = \"CAN You Hear ME\"\nprint(whisper_dis.lower())\nprint()\n\nyell_dis = \"yes i can hear you!!!!!!\"\nprint(yell_dis.upper())\nprint()\n\nformat_input = input('enter a string to reformat: ')\nprint(format_input.capitalize(), format_input.swapcase(), format_input.lower(), format_input.upper())\n",
      "execution_count": 13,
      "outputs": [
        {
          "output_type": "stream",
          "text": "I like cheese\n\nWho TOOK mY cheddA\n\ncan you hear me\n\nYES I CAN HEAR YOU!!!!!!\n\nenter a string to reformat: i like soccer\nI like soccer I LIKE SOCCER i like soccer I LIKE SOCCER\n",
          "name": "stdout"
        }
      ]
    },
    {
      "metadata": {
        "trusted": true
      },
      "cell_type": "code",
      "source": "# [ ] print the string variable capital_this Capitalizing only the first letter\ncapitalize_this = \"the TIME is Noon.\"\nprint(capitalize_this.capitalize())\n",
      "execution_count": 6,
      "outputs": [
        {
          "output_type": "stream",
          "text": "The time is noon.\n",
          "name": "stdout"
        }
      ]
    },
    {
      "metadata": {
        "trusted": true
      },
      "cell_type": "code",
      "source": "# print the string variable swap_this in swapped case\nswap_this = \"wHO writes LIKE tHIS?\"\nprint(swap_this.swapcase())\n",
      "execution_count": 7,
      "outputs": [
        {
          "output_type": "stream",
          "text": "Who WRITES like This?\n",
          "name": "stdout"
        }
      ]
    },
    {
      "metadata": {
        "trusted": true
      },
      "cell_type": "code",
      "source": "# print the string variable whisper_this in all lowercase\nwhisper_this = \"Can you hear me?\"\nprint(whisper_this.lower())",
      "execution_count": 8,
      "outputs": [
        {
          "output_type": "stream",
          "text": "can you hear me?\n",
          "name": "stdout"
        }
      ]
    },
    {
      "metadata": {
        "trusted": true
      },
      "cell_type": "code",
      "source": "# print the string variable yell_this in all UPPERCASE\nyell_this = \"Can you hear me Now!?\"\nprint(yell_this.upper())",
      "execution_count": 9,
      "outputs": [
        {
          "output_type": "stream",
          "text": "CAN YOU HEAR ME NOW!?\n",
          "name": "stdout"
        }
      ]
    },
    {
      "metadata": {
        "trusted": true
      },
      "cell_type": "code",
      "source": "#format input using .upper(), .lower(), .swapcase, .capitalize()\nformat_input = input('enter a string to reformat: ')\nprint(format_input.upper(), format_input.lower(), format_input.swapcase(), format_input.capitalize())",
      "execution_count": 10,
      "outputs": [
        {
          "output_type": "stream",
          "name": "stdout",
          "text": "enter a string to reformat: welcome to my house\nWELCOME TO MY HOUSE welcome to my house WELCOME TO MY HOUSE Welcome to my house\n"
        }
      ]
    },
    {
      "metadata": {},
      "cell_type": "markdown",
      "source": "### input() formatting"
    },
    {
      "metadata": {
        "trusted": true
      },
      "cell_type": "code",
      "source": "fav_food = input(\"what is your favorite food: \")\nprint(fav_food.lower())\nprint()\n\nremind_me = input(\"what is your favorite drink: \")\nprint(remind_me.lower())\nprint(remind_me.upper())\nprint()\n\nyell_tis = input(\"what do you hate? \")\nprint(yell_tis.upper())",
      "execution_count": 1,
      "outputs": [
        {
          "output_type": "stream",
          "name": "stdout",
          "text": "what is your favorite food: hot dogs\nhot dogs\n\nwhat is your favorite drink: coffee\ncoffee\nCOFFEE\n\nwhat do you hate? hot weather and sand\nHOT WEATHER AND SAND\n"
        }
      ]
    },
    {
      "metadata": {
        "trusted": true
      },
      "cell_type": "code",
      "source": "# [ ] get user input for a variable named color\nfav_color = input(\"what is your favorite color: \")\n# [ ] modify color to be all lowercase and print\n\n",
      "execution_count": 11,
      "outputs": [
        {
          "output_type": "stream",
          "name": "stdout",
          "text": "what is your favorite color: blue\n"
        }
      ]
    },
    {
      "metadata": {
        "trusted": true
      },
      "cell_type": "code",
      "source": "# [ ] get user input using variable remind_me and format to all **lowercase** and print\n# [ ] test using input with mixed upper and lower cases\nremind_me = input(\"what is your favorite animal\")\nprint(remind_me.lower())\nprint(remind_me.upper())\n",
      "execution_count": 12,
      "outputs": [
        {
          "output_type": "stream",
          "name": "stdout",
          "text": "what is your favorite animallion\nlion\nLION\n"
        }
      ]
    },
    {
      "metadata": {
        "trusted": true
      },
      "cell_type": "code",
      "source": "# [] get user input for the variable yell_this and format as a \"YELL\" to ALL CAPS\nyell_this = input(\"what do you hate \")\nprint(yell_this.upper())\n",
      "execution_count": 1,
      "outputs": [
        {
          "output_type": "stream",
          "name": "stdout",
          "text": "what do you hateavocados\nAVOCADOS\n"
        }
      ]
    },
    {
      "metadata": {},
      "cell_type": "markdown",
      "source": "## \"in\" keyword\n### boolean: short_str in long_str"
    },
    {
      "metadata": {
        "trusted": true
      },
      "cell_type": "code",
      "source": "food_input = input(\"name your 3 favorite foods: \")\nif \"pizza\" in food_input: \n    print(\"True\")\nelse: \n    print(\"False\")\n    \ncolor_input = input(\"what is your favorite color: \")\nif color_input.startswith(\"b\"):\n    print(\"True\")\nelse:\n    print(\"False\")\n    \ncolor = \"green\"\nprint(color.capitalize(), color.upper(), color.swapcase())",
      "execution_count": 6,
      "outputs": [
        {
          "output_type": "stream",
          "name": "stdout",
          "text": "name your 3 favorite foods: pizza protein bar chis\nTrue\nwhat is your favorite color: orange\nFalse\nGreen GREEN GREEN\n"
        }
      ]
    },
    {
      "metadata": {
        "trusted": true
      },
      "cell_type": "code",
      "source": "# [ ] get user input for the name of some animals in the variable animals_input\nanimal_input = input(\"name 3 of your favorite animals \")\n# [ ] print true or false if 'cat' is in the string variable animals_input\nif \"cat\" in animal_input: print(\"true\")",
      "execution_count": 4,
      "outputs": [
        {
          "output_type": "stream",
          "name": "stdout",
          "text": "name 3 of your favorite animals lion tiger cat\ntrue\n"
        }
      ]
    },
    {
      "metadata": {
        "trusted": true
      },
      "cell_type": "code",
      "source": "# [ ] get user input for color\nuser_input = input(\"what is your favorite color \")\n\n# [ ] print True or False for starts with \"b\"\nif \"b\" in user_input: print(\"true\")\n\n# [ ] print color variable value exactly as input \n#     test with input: \"Blue\", \"BLUE\", \"bLUE\"\ncolor = \"blue\"\nprint(color.capitalize(), color.upper(), color.swapcase())\n\n",
      "execution_count": 6,
      "outputs": [
        {
          "output_type": "stream",
          "name": "stdout",
          "text": "what is your favorite color blue\ntrue\n"
        }
      ]
    },
    {
      "metadata": {},
      "cell_type": "markdown",
      "source": "## Program: guess what I'm reading\n### short_str in long_str\n\n1. **[ ]** get user **`input`** for a single word describing something that can be read \n save in a variable called **can_read**  \n e.g. - \"website\", \"newspaper\", \"blog\", \"textbook\"  \n &nbsp;  \n2. **[ ]** get user **`input`** for 3 things can be read  \n save in a variable called **can_read_things**  \n&nbsp;  \n\n3. **[ ]** print **`true`** if the **can_read** string is found  \n **in** the **can_read_things** string variable\n  \n*example of program input and output*  \n[![01 02 practice Allergy-input](https://iajupyterprodblobs.blob.core.windows.net/imagecontainer/guess_reading.gif) ](https://1drv.ms/i/s!Am_KPRosgtaij7A_G6RtDlWZeYA3ZA)\n"
    },
    {
      "metadata": {
        "trusted": true
      },
      "cell_type": "code",
      "source": "# project: \"guess what I'm reading\"\n\n# 1[ ] get 1 word input for can_read variable\ncan_read = input(\"enter a 1 word item that can be read: \")\n\n# 2[ ] get 3 things input for can_read_things variable\ncan_read_things = input(\"enter 3 items that can be read: \")\n\n# 3[ ] print True if can_read is in can_read_things\nif can_read in can_read_things:\n    print(\"item found = True\")\nelse:\n    print(\"item not found = False\")\n\n# [] challenge: format the output to read \"item found = True\" (or false)\n# hint: look print formatting exercises\n\n",
      "execution_count": 2,
      "outputs": [
        {
          "output_type": "stream",
          "name": "stdout",
          "text": "enter a 1 word item that can be read: book\nenter 3 items that can be read: newpaper journal email\nitem not found = False\n"
        }
      ]
    },
    {
      "metadata": {},
      "cell_type": "markdown",
      "source": "## Program: Allergy Check\n\n1. **[ ]** get user **`input`** for categories of food eaten in the last 24 hours  \n save in a variable called **input_test**  \n *example input*\n [![01 02 practice Allergy-input](https://iajupyterprodblobs.blob.core.windows.net/imagecontainer/eaten_input.gif) ](https://1drv.ms/i/s!Am_KPRosgtaij65qzFD5CGvv95-ijg)\n&nbsp;  \n2. **[ ]** print **`True`** if \"dairy\" is in the **input_test** string  \n**[ ]** Test the code so far  \n&nbsp;\n3. **[ ]** modify the print statement to output similar to below  \n*example output*\n[![01 02 Allergy output](https://iajupyterprodblobs.blob.core.windows.net/imagecontainer/eaten_output.gif) ](https://1drv.ms/i/s!Am_KPRosgtaij65rET-wmlpCdMX7CQ)  \nTest the code so far trying input including the string \"dairy\" and without  \n&nbsp;  \n\n4. **[ ]** repeat the process checking the input for \"nuts\", **challenge** add \"Seafood\" and \"chocolate\"  \n**[ ]** Test your code  \n&nbsp;  \n  \n5. **[ ] challenge:** make your code work for input regardless of case, e.g. - print **`True`** for \"Nuts\", \"NuTs\", \"NUTS\" or \"nuts\"  \n"
    },
    {
      "metadata": {
        "trusted": true
      },
      "cell_type": "code",
      "source": "# Allergy check \n\n# 1[ ] get input for test\nfood_eaten = input(\"enter 5 foods you have eaten in the last 24 hours: \")\n# 2/3[ ] print True if \"dairy\" is in the input or False if not\nif \"dairy\" in food_eaten:\n    print(\"dairy allergy: true\")\nelse:\n    print(\"false\")\n\n# 4[ ] Check if \"nuts\" are in the input\nif \"nuts\" in food_eaten:\n    print(\"nut allergy: true\")\nelse:\n    print(\"false\")\n    \n# 4+[ ] Challenge: Check if \"seafood\" is in the input\nif \"seafood\" in food_eaten:\n    print(\"seafood allergy: true\")\nelse:\n    print(\"false\")\n    \n# 4+[ ] Challenge: Check if \"chocolate\" is in the input\nif \"chocolate\" in food_eaten:\n    print(\"chocolate allergy: true\")\nelse:\n    print(\"false\")\n",
      "execution_count": 6,
      "outputs": [
        {
          "output_type": "stream",
          "name": "stdout",
          "text": "enter 5 foods you have eaten in the last 24 hours: chocolate carrots pear apple nuts\nfalse\nnut allergen: true\nfalse\nchocolate allergen: true\n"
        }
      ]
    },
    {
      "metadata": {},
      "cell_type": "markdown",
      "source": "[Terms of use](http://go.microsoft.com/fwlink/?LinkID=206977) &nbsp; [Privacy & cookies](https://go.microsoft.com/fwlink/?LinkId=521839) &nbsp; © 2017 Microsoft"
    }
  ],
  "metadata": {
    "anaconda-cloud": {},
    "kernelspec": {
      "name": "python3",
      "display_name": "Python 3",
      "language": "python"
    },
    "language_info": {
      "mimetype": "text/x-python",
      "nbconvert_exporter": "python",
      "name": "python",
      "pygments_lexer": "ipython3",
      "version": "3.5.4",
      "file_extension": ".py",
      "codemirror_mode": {
        "version": 3,
        "name": "ipython"
      }
    }
  },
  "nbformat": 4,
  "nbformat_minor": 1
}